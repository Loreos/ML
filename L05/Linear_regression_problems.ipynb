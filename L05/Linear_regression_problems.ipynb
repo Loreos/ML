{
 "cells": [
  {
   "cell_type": "markdown",
   "id": "bdf9d3db-0aef-4f2e-975a-93dac1289642",
   "metadata": {},
   "source": [
    "___\n",
    "## Qa Write a Python function that uses the closed-form to find $\\bw^*$\n",
    "The function is convex. This means that the W* values can be found analytically, and these values will minimize the function globally. W* is found as  \n",
    "$$\n",
    "\\bw^* ~=~ \\left( \\bX^\\top \\bX \\right)^{-1} \\bX^\\top \\by\n",
    "$$"
   ]
  },
  {
   "cell_type": "code",
   "execution_count": 4,
   "id": "6ee4f01d-cacc-4ad3-8bb7-5c6826e3ce9e",
   "metadata": {},
   "outputs": [
    {
     "name": "stdout",
     "output_type": "stream",
     "text": [
      "w1=[4.046879011698 1.880121487278]\n"
     ]
    }
   ],
   "source": [
    "import sys,os\n",
    "sys.path.append(os.path.expanduser('~/GITMAL-master'))\n",
    "\n",
    "import numpy as np\n",
    "from libitmal import utils as itmalutils\n",
    "itmalutils.ResetRandom()\n",
    "\n",
    "#X, Y and expected w.\n",
    "X1 = np.array([[8.34044009e-01],[1.44064899e+00],[2.28749635e-04],[6.04665145e-01]])\n",
    "y1 = np.array([5.97396028, 7.24897834, 4.86609388, 3.51245674])\n",
    "w1_expected = np.array([4.046879011698, 1.880121487278])\n",
    "\n",
    "# Create function to caluclate w\n",
    "def find_w_star(X, y):\n",
    "    \n",
    "    #Add bias term to X\n",
    "    X = np.c_[np.ones(X.shape), X]\n",
    "    \n",
    "    w_star = np.linalg.pinv( np.dot(X.T, X) ).dot(X.T).dot(y)\n",
    "    return w_star\n",
    "\n",
    "w1 = find_w_star(X1,y1)\n",
    "#itmalutils.AssertInRange(w1_expected, w1_expected,eps=1E-9)\n",
    "\n",
    "# TEST VECTOR:\n",
    "itmalutils.PrintMatrix(w1, label=\"w1=\", precision=12)\n",
    "#itmalutils.AssertInRange(w1,w1_expected,eps=1E-9)"
   ]
  },
  {
   "cell_type": "markdown",
   "id": "1746fd65-cb3f-412b-8165-948a86ff1f9b",
   "metadata": {},
   "source": [
    "___\n",
    "## Qb Find the limits of the least-square method\n",
    "\n",
    "Again find the least-square optimal value for `w2` now using `X2` and `y2` as inputs.\n",
    "\n",
    "Describe the problem with the matrix inverse, and for what `M` and `N` combinations do you see, that calculation of the matrix inverse takes up long time?\n",
    "\n",
    "___\n",
    "By increasing the elements in the X and y matrices, the analytical problem starts to become increasingly complex and slow down. This is tested by gradually increasing elements, until it is no longer feasible. This uses the find_w_star(X,y) from the previous assignment."
   ]
  },
  {
   "cell_type": "code",
   "execution_count": 17,
   "id": "fc664298-e9a2-4e74-808c-889098f6aaa6",
   "metadata": {},
   "outputs": [
    {
     "name": "stdout",
     "output_type": "stream",
     "text": [
      "More test data, M=1000, N=1000...\n",
      "Time used for calculation: 1.5584709999998267 seconds \n",
      "\n",
      "The w2 matrix is: \n",
      " [-0.01697985 -0.11359867  0.03053441 ... -1.0084735  -2.38407421\n",
      " -0.75733314] \n",
      " The shape of the w2 matrix is: (2000,)\n"
     ]
    }
   ],
   "source": [
    "# Package to evaluate time use\n",
    "from ttictoc import tic,toc\n",
    "\n",
    "# TEST DATA: Matrix, taken from [HOML], p108\n",
    "M=1000\n",
    "N=1000\n",
    "print(f'More test data, M={M}, N={N}...')\n",
    "\n",
    "X2=2 * np.random.rand(M,N)\n",
    "y2=4 + 3*X2 + np.random.randn(M,1)\n",
    "y2=y2[:,0] # well, could do better here!\n",
    "\n",
    "tic()\n",
    "w2 = find_w_star(X2, y2)\n",
    "print(f\"Time used for calculation: {toc()} seconds \\n\")\n",
    "\n",
    "print(f\"The w2 matrix is: \\n {w2} \\n The shape of the w2 matrix is: {w2.shape}\")"
   ]
  },
  {
   "cell_type": "markdown",
   "id": "ac187331-bd52-4575-9be5-4aab97741b1d",
   "metadata": {},
   "source": [
    "When running the code, the system was solved in 0.004 seconds for M = 100 and N = 100, while it took around 1.5 seconds for the M = 1000 and N = 1000 problem."
   ]
  },
  {
   "cell_type": "code",
   "execution_count": null,
   "id": "b4070753-ce49-4aec-b02a-8fec914d1f1d",
   "metadata": {},
   "outputs": [],
   "source": []
  }
 ],
 "metadata": {
  "kernelspec": {
   "display_name": "Python 3 (ipykernel)",
   "language": "python",
   "name": "python3"
  },
  "language_info": {
   "codemirror_mode": {
    "name": "ipython",
    "version": 3
   },
   "file_extension": ".py",
   "mimetype": "text/x-python",
   "name": "python",
   "nbconvert_exporter": "python",
   "pygments_lexer": "ipython3",
   "version": "3.9.7"
  }
 },
 "nbformat": 4,
 "nbformat_minor": 5
}
